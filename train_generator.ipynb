{
 "nbformat": 4,
 "nbformat_minor": 2,
 "metadata": {
  "language_info": {
   "name": "python",
   "codemirror_mode": {
    "name": "ipython",
    "version": 3
   },
   "version": "3.7.4-final"
  },
  "orig_nbformat": 2,
  "file_extension": ".py",
  "mimetype": "text/x-python",
  "name": "python",
  "npconvert_exporter": "python",
  "pygments_lexer": "ipython3",
  "version": 3,
  "kernelspec": {
   "name": "python37464bitbaseconda29358b314876471fa2bf956c74569a96",
   "display_name": "Python 3.7.4 64-bit ('base': conda)"
  }
 },
 "cells": [
  {
   "cell_type": "code",
   "execution_count": 1,
   "metadata": {},
   "outputs": [],
   "source": [
    "import pathlib\n",
    "import random\n",
    "\n",
    "import tensorflow as tf\n",
    "import numpy as np\n",
    "from tensorflow.keras import models, layers\n",
    "from tensorflow.keras.preprocessing.image import ImageDataGenerator\n",
    "\n",
    "import os\n",
    "import matplotlib.pyplot as plt"
   ]
  },
  {
   "cell_type": "code",
   "execution_count": 2,
   "metadata": {},
   "outputs": [],
   "source": [
    "AUTOTUNE = tf.data.experimental.AUTOTUNE"
   ]
  },
  {
   "cell_type": "code",
   "execution_count": 3,
   "metadata": {},
   "outputs": [],
   "source": [
    "checkpoint_path = 'training/'\n",
    "imgroot_path = 'picture/train'\n",
    "num_train = 800\n",
    "num_val = 0\n",
    "batch_size = 32\n",
    "epochs = 1\n",
    "IMG_HEIGHT = 192\n",
    "IMG_WIDTH = 192"
   ]
  },
  {
   "cell_type": "code",
   "execution_count": 4,
   "metadata": {},
   "outputs": [],
   "source": [
    "def load_image_label(path, label):\n",
    "    image_raw = tf.io.read_file(path)\n",
    "    image = tf.image.decode_jpeg(image_raw, channels=3)\n",
    "    image = tf.image.resize(image, [IMG_HEIGHT, IMG_WIDTH])\n",
    "    image /= 255.0\n",
    "    return image, label"
   ]
  },
  {
   "cell_type": "code",
   "execution_count": 5,
   "metadata": {},
   "outputs": [],
   "source": [
    "def load_image(path):\n",
    "    image_raw = tf.io.read_file(path)\n",
    "    image = tf.image.decode_jpeg(image_raw, channels=3)\n",
    "    image = tf.image.resize(image, [IMG_HEIGHT, IMG_WIDTH])\n",
    "    image /= 255.0\n",
    "    return image"
   ]
  },
  {
   "cell_type": "code",
   "execution_count": 6,
   "metadata": {},
   "outputs": [],
   "source": [
    "def plot_image(image):\n",
    "    plt.figure(1)\n",
    "    plt.imshow(image)\n",
    "    plt.grid(False)\n",
    "    plt.show()"
   ]
  },
  {
   "cell_type": "code",
   "execution_count": 7,
   "metadata": {},
   "outputs": [
    {
     "name": "stdout",
     "output_type": "stream",
     "text": "1136\n"
    }
   ],
   "source": [
    "data_path = pathlib.Path(imgroot_path)\n",
    "all_image_paths = list(data_path.glob('*/*'))\n",
    "all_image_paths = [str(path) for path in all_image_paths if str(path).endswith(\".jpg\")]\n",
    "random.shuffle(all_image_paths)\n",
    "\n",
    "image_count = len(all_image_paths)\n",
    "label_names = sorted(item.name for item in data_path.glob('*/') if item.is_dir())\n",
    "label_to_index = dict((name, index) for index, name in enumerate(label_names))\n",
    "all_image_labels = [label_to_index[pathlib.Path(path).parent.name] for path in all_image_paths]\n",
    "\n",
    "print(image_count)\n",
    "num_val = image_count - num_train"
   ]
  },
  {
   "cell_type": "code",
   "execution_count": 8,
   "metadata": {},
   "outputs": [],
   "source": [
    "train_image_paths = all_image_paths[:num_train]\n",
    "val_image_paths = all_image_paths[num_train:]\n",
    "\n",
    "train_image_labels = all_image_labels[:num_train]\n",
    "val_image_labels = all_image_labels[num_train:]"
   ]
  },
  {
   "cell_type": "code",
   "execution_count": 9,
   "metadata": {},
   "outputs": [
    {
     "data": {
      "text/plain": "<map at 0x12ea83350>"
     },
     "execution_count": 9,
     "metadata": {},
     "output_type": "execute_result"
    }
   ],
   "source": [
    "train_images = train_image_paths\n",
    "val_images = val_image_paths\n",
    "\n",
    "map(load_image, train_images)\n",
    "map(load_image, val_images)"
   ]
  },
  {
   "cell_type": "code",
   "execution_count": 24,
   "metadata": {},
   "outputs": [],
   "source": [
    "train_gen = ImageDataGenerator(rescale=1./255,\n",
    "                               rotation_range=45,\n",
    "                               width_shift_range=.15,\n",
    "                               height_shift_range=.15,\n",
    "                               horizontal_flip=True,\n",
    "                               zoom_range=0.5)\n",
    "\n",
    "val_gen = ImageDataGenerator(rescale=1./255)"
   ]
  },
  {
   "cell_type": "code",
   "execution_count": null,
   "metadata": {},
   "outputs": [],
   "source": [
    "train_data_gen = train_gen.flow(train_images)"
   ]
  },
  {
   "cell_type": "code",
   "execution_count": 27,
   "metadata": {},
   "outputs": [
    {
     "name": "stdout",
     "output_type": "stream",
     "text": "Found 2 images belonging to 2 classes.\n"
    }
   ],
   "source": [
    "train_data_gen = train_gen.flow_from_directory('picture/pre_trans',\n",
    "                                               batch_size=1,\n",
    "                                                shuffle=False,\n",
    "                                                save_to_dir='picture/trans',\n",
    "                                                save_prefix='trans_',\n",
    "                                                save_format='jpg')\n",
    "\n",
    "for i in range(8):\n",
    "    next(train_data_gen)"
   ]
  },
  {
   "cell_type": "code",
   "execution_count": 20,
   "metadata": {},
   "outputs": [
    {
     "ename": "AttributeError",
     "evalue": "'list' object has no attribute 'size'",
     "output_type": "error",
     "traceback": [
      "\u001b[0;31m---------------------------------------------------------------------------\u001b[0m",
      "\u001b[0;31mAttributeError\u001b[0m                            Traceback (most recent call last)",
      "\u001b[0;32m<ipython-input-20-a8dfb81accd3>\u001b[0m in \u001b[0;36m<module>\u001b[0;34m\u001b[0m\n\u001b[0;32m----> 1\u001b[0;31m \u001b[0mprint\u001b[0m\u001b[0;34m(\u001b[0m\u001b[0mtrain_images\u001b[0m\u001b[0;34m.\u001b[0m\u001b[0msize\u001b[0m\u001b[0;34m)\u001b[0m\u001b[0;34m\u001b[0m\u001b[0;34m\u001b[0m\u001b[0m\n\u001b[0m\u001b[1;32m      2\u001b[0m \u001b[0;34m\u001b[0m\u001b[0m\n\u001b[1;32m      3\u001b[0m train_data_gen = train_gen.flow(train_images,\n\u001b[1;32m      4\u001b[0m                                 \u001b[0mtrain_image_labels\u001b[0m\u001b[0;34m,\u001b[0m\u001b[0;34m\u001b[0m\u001b[0;34m\u001b[0m\u001b[0m\n\u001b[1;32m      5\u001b[0m                                 batch_size=batch_size)\n",
      "\u001b[0;31mAttributeError\u001b[0m: 'list' object has no attribute 'size'"
     ]
    }
   ],
   "source": [
    "train_data_gen = train_gen.flow(train_images,\n",
    "                                train_image_labels,\n",
    "                                batch_size=batch_size)\n",
    "\n",
    "val_data_gen = val_gen.flow(val_images,\n",
    "                            val_image_labels,\n",
    "                            batch_size=batch_size)"
   ]
  },
  {
   "cell_type": "code",
   "execution_count": null,
   "metadata": {},
   "outputs": [],
   "source": [
    "train_path_image_ds = tf.data.Dataset.from_tensor_slices((train_image_paths, train_image_labels))\n",
    "val_path_image_ds = tf.data.Dataset.from_tensor_slices((val_image_paths, val_image_labels))\n",
    "\n",
    "train_image_label_ds = train_path_image_ds.map(load_image_label)\n",
    "val_image_label_ds = val_path_image_ds.map(load_image_label)\n",
    "\n",
    "train_image_label_ds"
   ]
  },
  {
   "cell_type": "code",
   "execution_count": null,
   "metadata": {},
   "outputs": [],
   "source": [
    "train_image_label_ds = train_image_label_ds.shuffle(buffer_size=image_count).repeat().batch(batch_size)\n",
    "train_image_label_ds = train_image_label_ds.prefetch(buffer_size=AUTOTUNE)\n",
    "\n",
    "val_image_label_ds = val_image_label_ds.shuffle(buffer_size=image_count).repeat().batch(batch_size)\n",
    "val_image_label_ds = val_image_label_ds.prefetch(buffer_size=AUTOTUNE)"
   ]
  },
  {
   "cell_type": "code",
   "execution_count": null,
   "metadata": {},
   "outputs": [],
   "source": [
    "def create_model():\n",
    "    mobile_net = tf.keras.applications.MobileNetV2(input_shape=(IMG_HEIGHT, IMG_WIDTH, 3), include_top=False)\n",
    "    mobile_net.trainable=False\n",
    "\n",
    "    model = models.Sequential([\n",
    "        mobile_net,\n",
    "        layers.GlobalAveragePooling2D(),\n",
    "        layers.Dropout(0.2),\n",
    "        layers.Dense(8, activation = 'softmax')\n",
    "        # layers.Conv2D(16, 3, padding='same', activation='relu', input_shape=(IMG_HEIGHT, IMG_WIDTH, 3)),\n",
    "        # layers.MaxPooling2D(),\n",
    "        # layers.Dropout(0.2),\n",
    "        # layers.Conv2D(32, 3, padding='same', activation='relu'),\n",
    "        # layers.MaxPooling2D(),\n",
    "        # layers.Conv2D(64, 3, padding='same', activation='relu'),\n",
    "        # layers.MaxPooling2D(),\n",
    "        # layers.Dropout(0.2),\n",
    "        # layers.Flatten(),\n",
    "        # layers.Dense(512, activation='relu'),\n",
    "        # layers.Dense(16, activation='softmax')\n",
    "    ])\n",
    "    model.compile(\n",
    "        optimizer='adam',\n",
    "        loss='sparse_categorical_crossentropy',\n",
    "        metrics=['accuracy'])\n",
    "    return model"
   ]
  },
  {
   "cell_type": "code",
   "execution_count": null,
   "metadata": {},
   "outputs": [],
   "source": [
    "model = create_model()\n",
    "model.summary()"
   ]
  },
  {
   "cell_type": "code",
   "execution_count": null,
   "metadata": {},
   "outputs": [],
   "source": [
    "model_log = model.fit(train_image_label_ds, \n",
    "                      epochs=epochs, \n",
    "                      steps_per_epoch=num_train,\n",
    "                      validation_data=val_image_label_ds,\n",
    "#                       validation_steps=num_val)\n",
    " model.fit_generator(train_data_gen,\n",
    "                    steps_per_epoch=num_train,\n",
    "                    epochs=epochs,\n",
    "                    validation_data=val_data_gen,\n",
    "                    validation_steps=num_val)                      "
   ]
  },
  {
   "cell_type": "code",
   "execution_count": null,
   "metadata": {},
   "outputs": [],
   "source": [
    "model = createmodel.save('training_res/model_generator.h5')"
   ]
  },
  {
   "cell_type": "code",
   "execution_count": null,
   "metadata": {},
   "outputs": [],
   "source": [
    "acc = model_log.history['accuracy']\n",
    "val_acc = model_log.history['val_accuracy']\n",
    "\n",
    "loss = model_log.history['loss']\n",
    "val_loss = model_log.history['val_loss']\n",
    "\n",
    "epochs_range = range(epochs)\n",
    "\n",
    "plt.figure(figsize=(8, 8))\n",
    "plt.subplot(2, 1, 1)\n",
    "plt.plot(epochs_range, acc, label='Training Accuracy')\n",
    "plt.plot(epochs_range, val_acc, label='Validation Accuracy')\n",
    "plt.legend(loc='lower right')\n",
    "plt.title('Accuracy')\n",
    "\n",
    "plt.subplot(2, 1, 2)\n",
    "plt.plot(epochs_range, loss, label='Training Loss')\n",
    "plt.plot(epochs_range, val_loss, label='Validation Loss')\n",
    "plt.legend(loc='upper right')\n",
    "plt.title('Loss')\n",
    "plt.savefig('pic_A&L.jpg')\n",
    "plt.show()"
   ]
  },
  {
   "cell_type": "code",
   "execution_count": null,
   "metadata": {},
   "outputs": [],
   "source": []
  }
 ]
}